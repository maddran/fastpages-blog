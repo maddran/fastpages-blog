{
  "nbformat": 4,
  "nbformat_minor": 0,
  "metadata": {
    "colab": {
      "name": "NHL_games_data.ipynb",
      "provenance": [],
      "collapsed_sections": [],
      "toc_visible": true,
      "authorship_tag": "ABX9TyP1z7vVjVCW7XQBrVZ+oVgF",
      "include_colab_link": true
    },
    "kernelspec": {
      "display_name": "Python 3",
      "name": "python3"
    }
  },
  "cells": [
    {
      "cell_type": "markdown",
      "metadata": {
        "id": "view-in-github",
        "colab_type": "text"
      },
      "source": [
        "<a href=\"https://colab.research.google.com/github/maddran/NHL-pred/blob/main/NHL_games_data.ipynb\" target=\"_parent\"><img src=\"https://colab.research.google.com/assets/colab-badge.svg\" alt=\"Open In Colab\"/></a>"
      ]
    },
    {
      "cell_type": "markdown",
      "metadata": {
        "id": "LVHIdrUWX4Yh"
      },
      "source": [
        "# **NHL Score Margin Prediction // Part 1 - Downloading Game Data and Pre-Processing**\n",
        "\n",
        "> This is the first of a series of mini-projects focused on using data from [NHL Stats](http://www.nhl.com/stats/) to predict the score margin of NHL games.\n",
        "\n",
        "- toc:true- branch: master\n",
        "- badges: true\n",
        "- comments: false\n",
        "- author: Madhav Narendran\n",
        "- categories: [NHL, API, web, scraping, pandas, data, gathering, predictions, jupyter]"
      ]
    },
    {
      "cell_type": "markdown",
      "metadata": {
        "id": "oDWcsKPAJ2ty"
      },
      "source": [
        "\n",
        "\n",
        "\n",
        "\n",
        "Having been a long suffering fan of my hometown hockey team (Go Flames Go!), I have had some version of a hockey score / performance prediction project on the go for many, many years. In fact, when I was first self-learning programming in Python, these kinds of projects were key in helping me solidify my skills in data gathering, cleaning, and exploratory analysis.\n",
        "\n",
        "In this series, I will implement a few different game score/margin prediction pipelines from end-to-end. Part 1 focuses on calling the NHL Stats API to download game-level regular season data for five seasons from 2014-2019, and applying some pre-processing.<br><br>\n",
        "\n",
        "---"
      ]
    },
    {
      "cell_type": "markdown",
      "metadata": {
        "id": "PYL667HuRLWF"
      },
      "source": [
        "##Module Imports"
      ]
    },
    {
      "cell_type": "code",
      "metadata": {
        "id": "03rNFNbUQgcs"
      },
      "source": [
        "import requests\n",
        "import pandas as pd\n",
        "from pandas import json_normalize \n",
        "from datetime import datetime\n",
        "from time import sleep"
      ],
      "execution_count": 78,
      "outputs": []
    },
    {
      "cell_type": "markdown",
      "metadata": {
        "id": "dNw1pgBASeAc"
      },
      "source": [
        "## Function Definitions\n",
        "\n",
        "Let's get cracking with some function definitions. I'm going to provide a brief overview of the function in text (in lieu of a docstring). I'll also pepper in some comments within the code where I feel it's useful."
      ]
    },
    {
      "cell_type": "markdown",
      "metadata": {
        "id": "iB_Styy7QiwP"
      },
      "source": [
        "### Call NHL API\n",
        "\n",
        "**Avoid Scraping Raw HTML -**\n",
        "If you're not familiar with web development, your first instinct when trying to scrape data from a table such as [this one on NHL Stats](http://www.nhl.com/stats/teams), might be to try to download the data directly as you see it rendered in your browser. While there are plently of Python modules that will allow you to do this relatively easily, it is not the most robust approach as there is a good chance your implementation will break once the site undergoes an update which changes its layout.\n",
        "\n",
        "**Identify Data API -** The better approach is to try to identify the API call which produces the data that is being displayed. To do this, use your browser's developer tools to inspect the network traffic as you load the page which contains your data ([Chrome demo](https://developers.google.com/web/tools/chrome-devtools/network)). With a bit of experience, spotting these data APIs becomes quite easy. But, when you're starting off, expect there to be some trial and error.\n",
        "\n",
        "**Replicate API call in Python -** If you are lucky enough to spot a data API, you can replicate it in Python code by:\n",
        "\n",
        "\n",
        "1.   Right clicking on the API call in your browser's developer tools\n",
        "2.   Select Copy > Copy as cURL\n",
        "3.   Navigate to [this handy utility](https://curl.trillworks.com/) (or something similar) and paste in the copied cURL command to generate the corresponding Python `requests` code.\n",
        "\n",
        "The generated Python code can now be used with the Python `requests` module as in the function.  `call_nhl` is a function that:\n",
        "\n",
        "*   takes mandatory input `startSeason` and optional input `endSeason`, each of which are strings in the format `20xx20yy` where `yy = xx + 1` (e.g. `20142015`, `20152016`, etc.)\n",
        "*   outputs `response`, the JSON response from the API.\n"
      ]
    },
    {
      "cell_type": "code",
      "metadata": {
        "id": "cFonPStYUs3s"
      },
      "source": [
        "def call_nhl(startSeason, endSeason=None):\n",
        "\n",
        "  # Possible to call API for multiple seasons, \n",
        "  # but if no end season is provided, set end season = start season.\n",
        "  if not endSeason:\n",
        "    endSeason = startSeason\n",
        "\n",
        "  # Headers in the API call authenticate the requests\n",
        "  headers = {\n",
        "      'authority': 'api.nhle.com',\n",
        "      # Could cycle through different user agents using the fake-useragent module \n",
        "      # if the API appears to be blocking repeated calls\n",
        "      'user-agent': 'Mozilla/5.0 (X11; Linux x86_64) AppleWebKit/537.36 (KHTML, like Gecko) Chrome/87.0.4280.141 Safari/537.36',\n",
        "      'accept': '*/*',\n",
        "      'origin': 'http://www.nhl.com',\n",
        "      'sec-fetch-site': 'cross-site',\n",
        "      'sec-fetch-mode': 'cors',\n",
        "      'sec-fetch-dest': 'empty',\n",
        "      'referer': 'http://www.nhl.com/',\n",
        "      'accept-language': 'en-US,en;q=0.9',\n",
        "  }\n",
        "\n",
        "  params = (\n",
        "      ('isAggregate', 'false'),\n",
        "      ('isGame', 'true'),\n",
        "      ('sort', '[{\"property\":\"gameDate\",\"direction\":\"DESC\"}]'),\n",
        "      ('start', '0'),\n",
        "      # Setting limit = 0 returns all games for given season\n",
        "      ('limit', '0'),\n",
        "      ('factCayenneExp', 'gamesPlayed>=1'),\n",
        "      # Through trial and error, gameTypeId=2 corresponds to regular season games\n",
        "      # The f-string inserts endSeason and startSeason into the parameters\n",
        "      ('cayenneExp', f'gameTypeId=2 and seasonId<={endSeason} and seasonId>={startSeason}'),\n",
        "  )\n",
        "  \n",
        "  # Call API with given headers and parameters\n",
        "  response = requests.get('https://api.nhle.com/stats/rest/en/team/summary', headers=headers, params=params)\n",
        "\n",
        "  return response"
      ],
      "execution_count": null,
      "outputs": []
    },
    {
      "cell_type": "markdown",
      "metadata": {
        "id": "wK5v0HEpyvB6"
      },
      "source": [
        "### Get Game Data\n",
        "\n",
        "A previous version of the NHL API could only return a limited number of results, and would time out if too much data was requested. Although this no longer seems to be an issue (at least in the context of retrieving 5 seasons of game summaries) I will make individual calls to `call_nhl` for each season.\n",
        "\n",
        "`get_gameData` is a function that:\n",
        "\n",
        "*   Takes integer inputs `startYear` (year in `YYYY` format) and `numSeasons`\n",
        "*   Returns a dictionary of `season ID : game data` pairs for `numSeasons` seasons starting with the season that began in `startYear`.\n",
        "\n",
        "\n"
      ]
    },
    {
      "cell_type": "code",
      "metadata": {
        "id": "wBhWaVsey9vn"
      },
      "source": [
        "def get_gameData(startYear, numSeasons):\n",
        "\n",
        "  seasons = [f\"{startYear+i}{startYear+i+1}\" for i in range(numSeasons)]\n",
        "\n",
        "  rows=0\n",
        "  res = {}\n",
        "\n",
        "  for s in seasons:\n",
        "    response = call_nhl(s)\n",
        "\n",
        "    # Try except is probably more appropriate,\n",
        "    # but if it ain't broke...\n",
        "    if response:\n",
        "      response = response.json()\n",
        "      rows+=len(response['data'])\n",
        "      df = pd.json_normalize(response['data'])\n",
        "      res[s] = df\n",
        "      print(f\"Number of games grabbed for {s} = {len(response['data'])}. Total = {rows}\")\n",
        "    else:\n",
        "      print(\"ERROR: unable to connect to NHL API\")\n",
        "      return None\n",
        "\n",
        "  return res"
      ],
      "execution_count": null,
      "outputs": []
    },
    {
      "cell_type": "markdown",
      "metadata": {
        "id": "J0xoC7XzCHoQ"
      },
      "source": [
        "## What do we have so far?\n",
        "\n",
        "Lets's call `get_gameData` for a single year and see what the result looks like:"
      ]
    },
    {
      "cell_type": "code",
      "metadata": {
        "colab": {
          "base_uri": "https://localhost:8080/"
        },
        "id": "_pDXt4xSCn0r",
        "outputId": "3491cd11-7fb4-4fc3-f511-500153290c77"
      },
      "source": [
        "data = get_gameData(2018, 1)\n",
        "\n",
        "print(\"\\nSummary of 2018-19 season game data:\\n\")\n",
        "# pandas describe function provides an easy way of viewing  \n",
        "# a summary of a dataframe.\n",
        "df = list(data.values())[0]\n",
        "df.columns"
      ],
      "execution_count": null,
      "outputs": [
        {
          "output_type": "stream",
          "text": [
            "Number of games grabbed for 20182019 = 2542. Total = 2542\n",
            "\n",
            "Summary of 2018-19 season game data:\n",
            "\n"
          ],
          "name": "stdout"
        },
        {
          "output_type": "execute_result",
          "data": {
            "text/plain": [
              "Index(['faceoffWinPct', 'gameDate', 'gameId', 'gamesPlayed', 'goalsAgainst',\n",
              "       'goalsAgainstPerGame', 'goalsFor', 'goalsForPerGame', 'homeRoad',\n",
              "       'losses', 'opponentTeamAbbrev', 'otLosses', 'penaltyKillNetPct',\n",
              "       'penaltyKillPct', 'pointPct', 'points', 'powerPlayNetPct',\n",
              "       'powerPlayPct', 'regulationAndOtWins', 'shotsAgainstPerGame',\n",
              "       'shotsForPerGame', 'teamFullName', 'teamId', 'ties', 'wins',\n",
              "       'winsInRegulation', 'winsInShootout'],\n",
              "      dtype='object')"
            ]
          },
          "metadata": {
            "tags": []
          },
          "execution_count": 63
        }
      ]
    },
    {
      "cell_type": "markdown",
      "metadata": {
        "id": "9Y1L9WyzEJwY"
      },
      "source": [
        "In 2018, the NHL had 31 teams each of whom played 82 games for `31 x 82 = 2542` total games. So, our result looks good!"
      ]
    },
    {
      "cell_type": "markdown",
      "metadata": {
        "id": "TWMuPrkQEzSJ"
      },
      "source": [
        "## More Function Definitions\n",
        "\n",
        "Great! So, we have a means of collecting game data. Now, to help with analysis and prediction down the road, I'd like to extract a schedule of games as well as a rolling window aggregate from the raw dataset for each season.  \n",
        "\n"
      ]
    },
    {
      "cell_type": "markdown",
      "metadata": {
        "id": "o9UCWKU-JJtX"
      },
      "source": [
        "### Get Game schedule\n",
        "\n",
        "To start, we need to produce a means of looking up a team's name by their ID. There is another endpoint on the NHL API that provides this, but since we have our season of data loaded already, let's just use that.\n",
        "\n",
        "`get_teamLU` takes a pandas dataframe containing a game summaries as input and produces a dictionary of `team ID : team name` pairs.\n"
      ]
    },
    {
      "cell_type": "code",
      "metadata": {
        "id": "abh1Uw2-KFwY"
      },
      "source": [
        "def get_teamLU(df):\n",
        "  return dict(zip(df['teamId'], df['teamFullName']))"
      ],
      "execution_count": null,
      "outputs": []
    },
    {
      "cell_type": "markdown",
      "metadata": {
        "id": "APcLmbZ1K1c-"
      },
      "source": [
        "For the 2018-19 data, that produces:"
      ]
    },
    {
      "cell_type": "code",
      "metadata": {
        "colab": {
          "base_uri": "https://localhost:8080/"
        },
        "id": "09D3nYMvK-WA",
        "outputId": "eeab020d-d7d1-4a0d-dddc-f958669f2ffc"
      },
      "source": [
        "teamLU = get_teamLU(df)\n",
        "teamLU"
      ],
      "execution_count": null,
      "outputs": [
        {
          "output_type": "execute_result",
          "data": {
            "text/plain": [
              "{1: 'New Jersey Devils',\n",
              " 2: 'New York Islanders',\n",
              " 3: 'New York Rangers',\n",
              " 4: 'Philadelphia Flyers',\n",
              " 5: 'Pittsburgh Penguins',\n",
              " 6: 'Boston Bruins',\n",
              " 7: 'Buffalo Sabres',\n",
              " 8: 'Montréal Canadiens',\n",
              " 9: 'Ottawa Senators',\n",
              " 10: 'Toronto Maple Leafs',\n",
              " 12: 'Carolina Hurricanes',\n",
              " 13: 'Florida Panthers',\n",
              " 14: 'Tampa Bay Lightning',\n",
              " 15: 'Washington Capitals',\n",
              " 16: 'Chicago Blackhawks',\n",
              " 17: 'Detroit Red Wings',\n",
              " 18: 'Nashville Predators',\n",
              " 19: 'St. Louis Blues',\n",
              " 20: 'Calgary Flames',\n",
              " 21: 'Colorado Avalanche',\n",
              " 22: 'Edmonton Oilers',\n",
              " 23: 'Vancouver Canucks',\n",
              " 24: 'Anaheim Ducks',\n",
              " 25: 'Dallas Stars',\n",
              " 26: 'Los Angeles Kings',\n",
              " 28: 'San Jose Sharks',\n",
              " 29: 'Columbus Blue Jackets',\n",
              " 30: 'Minnesota Wild',\n",
              " 52: 'Winnipeg Jets',\n",
              " 53: 'Arizona Coyotes',\n",
              " 54: 'Vegas Golden Knights'}"
            ]
          },
          "metadata": {
            "tags": []
          },
          "execution_count": 65
        }
      ]
    },
    {
      "cell_type": "markdown",
      "metadata": {
        "id": "HjgIhjysLVlm"
      },
      "source": [
        "Now, we define a function `home_road` which takes a game summary dataframe and the team lookup dictionary `team_LU` to produce four new columns:\n",
        "\n",
        "*   `home, road` - contain hoame and road team IDs, respectively\n",
        "*   `homeName, roadName` - contain hoame and road team names, respectively\n",
        "\n",
        "The funciton `get_schedule` puts it all together by applying `home_road` to each entry in the game summary dataframe `df` and then groups it by the `gameId` and `gameDate` columns to produce the final schedule:"
      ]
    },
    {
      "cell_type": "code",
      "metadata": {
        "id": "-uuk0mk6Drq0"
      },
      "source": [
        "def home_road(df, teamLU):\n",
        "  res = {}\n",
        "  res['home'] = df[df['homeRoad']=='H']['teamId'].values[0]\n",
        "  res['road'] = df[df['homeRoad']=='R']['teamId'].values[0]\n",
        "\n",
        "  res['homeName'] = teamLU[res['home']]\n",
        "  res['roadName'] = teamLU[res['road']]\n",
        "\n",
        "  return pd.Series(res, index=res.keys())\n",
        "\n",
        "def get_schedule(df, teamLU):\n",
        "  return df.groupby(['gameId', 'gameDate']).apply(home_road, teamLU)"
      ],
      "execution_count": null,
      "outputs": []
    },
    {
      "cell_type": "markdown",
      "metadata": {
        "id": "FrFY0r_2NVYg"
      },
      "source": [
        "Let's see what the schedule looks like for the 2018-19 season:"
      ]
    },
    {
      "cell_type": "code",
      "metadata": {
        "colab": {
          "base_uri": "https://localhost:8080/",
          "height": 223
        },
        "id": "QIWo6TVmNWJZ",
        "outputId": "42580131-4a3f-4ebd-c0fb-74df21fc03db"
      },
      "source": [
        "get_schedule(df, teamLU).head()"
      ],
      "execution_count": null,
      "outputs": [
        {
          "output_type": "execute_result",
          "data": {
            "text/html": [
              "<div>\n",
              "<style scoped>\n",
              "    .dataframe tbody tr th:only-of-type {\n",
              "        vertical-align: middle;\n",
              "    }\n",
              "\n",
              "    .dataframe tbody tr th {\n",
              "        vertical-align: top;\n",
              "    }\n",
              "\n",
              "    .dataframe thead th {\n",
              "        text-align: right;\n",
              "    }\n",
              "</style>\n",
              "<table border=\"1\" class=\"dataframe\">\n",
              "  <thead>\n",
              "    <tr style=\"text-align: right;\">\n",
              "      <th></th>\n",
              "      <th></th>\n",
              "      <th>home</th>\n",
              "      <th>road</th>\n",
              "      <th>homeName</th>\n",
              "      <th>roadName</th>\n",
              "    </tr>\n",
              "    <tr>\n",
              "      <th>gameId</th>\n",
              "      <th>gameDate</th>\n",
              "      <th></th>\n",
              "      <th></th>\n",
              "      <th></th>\n",
              "      <th></th>\n",
              "    </tr>\n",
              "  </thead>\n",
              "  <tbody>\n",
              "    <tr>\n",
              "      <th>2018020001</th>\n",
              "      <th>2018-10-03</th>\n",
              "      <td>10</td>\n",
              "      <td>8</td>\n",
              "      <td>Toronto Maple Leafs</td>\n",
              "      <td>Montréal Canadiens</td>\n",
              "    </tr>\n",
              "    <tr>\n",
              "      <th>2018020002</th>\n",
              "      <th>2018-10-03</th>\n",
              "      <td>15</td>\n",
              "      <td>6</td>\n",
              "      <td>Washington Capitals</td>\n",
              "      <td>Boston Bruins</td>\n",
              "    </tr>\n",
              "    <tr>\n",
              "      <th>2018020003</th>\n",
              "      <th>2018-10-03</th>\n",
              "      <td>23</td>\n",
              "      <td>20</td>\n",
              "      <td>Vancouver Canucks</td>\n",
              "      <td>Calgary Flames</td>\n",
              "    </tr>\n",
              "    <tr>\n",
              "      <th>2018020004</th>\n",
              "      <th>2018-10-03</th>\n",
              "      <td>28</td>\n",
              "      <td>24</td>\n",
              "      <td>San Jose Sharks</td>\n",
              "      <td>Anaheim Ducks</td>\n",
              "    </tr>\n",
              "    <tr>\n",
              "      <th>2018020005</th>\n",
              "      <th>2018-10-04</th>\n",
              "      <td>7</td>\n",
              "      <td>6</td>\n",
              "      <td>Buffalo Sabres</td>\n",
              "      <td>Boston Bruins</td>\n",
              "    </tr>\n",
              "  </tbody>\n",
              "</table>\n",
              "</div>"
            ],
            "text/plain": [
              "                       home  road             homeName            roadName\n",
              "gameId     gameDate                                                       \n",
              "2018020001 2018-10-03    10     8  Toronto Maple Leafs  Montréal Canadiens\n",
              "2018020002 2018-10-03    15     6  Washington Capitals       Boston Bruins\n",
              "2018020003 2018-10-03    23    20    Vancouver Canucks      Calgary Flames\n",
              "2018020004 2018-10-03    28    24      San Jose Sharks       Anaheim Ducks\n",
              "2018020005 2018-10-04     7     6       Buffalo Sabres       Boston Bruins"
            ]
          },
          "metadata": {
            "tags": []
          },
          "execution_count": 67
        }
      ]
    },
    {
      "cell_type": "markdown",
      "metadata": {
        "id": "LJ4PUJD3N5vm"
      },
      "source": [
        "This appears to match the table from NHL Stats. Yay!\n",
        "\n",
        "> ![](https://drive.google.com/uc?export=view&id=11Dlm_pJXzoStlfZXERvZRL4F4OHZ0poG)\n",
        "\n"
      ]
    },
    {
      "cell_type": "markdown",
      "metadata": {
        "id": "kK5B3mY3RrSf"
      },
      "source": [
        "### Rolling Aggregate\n",
        "\n",
        "One hypothesis I'd like to test is that performance in the recent past (3-7 games) is far more indicative of future performance than games in the far past. So, let's write a funciton that produces a rolling aggregate of some of columns in the game summary.\n",
        "\n",
        "`rolling_aggregate` takes a dataframe of game summaries and an integer `window` representing the window of games to consider in each aggregation:\n",
        "\n",
        "\n",
        "*   for certain data columns such as `'gamesPlayed', 'goalsAgainst', 'goalsFor', 'points', 'regulationAndOtWins'` etc., the aggreagtion should be a sum\n",
        "*   for columns such as `'goalsForPerGame', 'goalsAgainstPerGame'` etc., the aggregation should be a mean\n",
        "*   certain others can also be summed cumulatively\n",
        "\n",
        "`get_rolling` applies `rolling_aggregate` to the grouped game summaries of each team to produces an aggregated dataset.\n",
        "\n",
        "\n"
      ]
    },
    {
      "cell_type": "code",
      "metadata": {
        "id": "zeX_dFvDeVRG"
      },
      "source": [
        "def rolling_aggregate(df, window = 3):\n",
        "  res = {}\n",
        "  roll_sum = ['gamesPlayed', 'goalsAgainst', 'goalsFor', \n",
        "              'losses', 'otLosses', \n",
        "              'points', \n",
        "              'regulationAndOtWins', 'winsInShootout']\n",
        "\n",
        "  roll_mean = ['goalsForPerGame', 'goalsAgainstPerGame',\n",
        "               'shotsForPerGame', 'shotsAgainstPerGame']\n",
        "\n",
        "  cumsum = ['gamesPlayed', 'points', \n",
        "            'goalsFor', 'goalsAgainst']\n",
        "            \n",
        "  # fill and NaNs with 0\n",
        "  df = df.fillna(0)\n",
        "\n",
        "  # aggregate by sum\n",
        "  res = df[roll_sum].rolling(window).sum()\n",
        "  # aggregate by mean\n",
        "  res = res.merge(df[roll_mean].rolling(window).mean(), \n",
        "            left_index=True, right_index = True)\n",
        "  res.columns = [f\"rolling_{col}\" for col in res.columns]\n",
        "  res['rolling_pointsPct'] = res['rolling_points']/(window*2)\n",
        "  # cumulative sum\n",
        "  res[[f\"cum_{col}\" for col in cumsum]] = df[cumsum].cumsum()\n",
        "\n",
        "  res.index = df['gameId']\n",
        "\n",
        "  res = res[sorted(res.columns)]\n",
        "\n",
        "  return res\n",
        "\n",
        "def get_rolling(df, window=3):\n",
        "  return df.groupby(['teamId']).apply(rolling_aggregate, window)\n"
      ],
      "execution_count": null,
      "outputs": []
    },
    {
      "cell_type": "markdown",
      "metadata": {
        "id": "r65jFemlVZA3"
      },
      "source": [
        "For the 2018-19 data and a game window of 7 games, `get_rolling` gives the following result:"
      ]
    },
    {
      "cell_type": "code",
      "metadata": {
        "colab": {
          "base_uri": "https://localhost:8080/",
          "height": 390
        },
        "id": "BfPNzfUjWXtN",
        "outputId": "f55f516d-7926-410a-eacf-e4b8083c29b0"
      },
      "source": [
        "get_rolling(df,3).head(10)"
      ],
      "execution_count": null,
      "outputs": [
        {
          "output_type": "execute_result",
          "data": {
            "text/html": [
              "<div>\n",
              "<style scoped>\n",
              "    .dataframe tbody tr th:only-of-type {\n",
              "        vertical-align: middle;\n",
              "    }\n",
              "\n",
              "    .dataframe tbody tr th {\n",
              "        vertical-align: top;\n",
              "    }\n",
              "\n",
              "    .dataframe thead th {\n",
              "        text-align: right;\n",
              "    }\n",
              "</style>\n",
              "<table border=\"1\" class=\"dataframe\">\n",
              "  <thead>\n",
              "    <tr style=\"text-align: right;\">\n",
              "      <th></th>\n",
              "      <th></th>\n",
              "      <th>cum_gamesPlayed</th>\n",
              "      <th>cum_goalsAgainst</th>\n",
              "      <th>cum_goalsFor</th>\n",
              "      <th>cum_points</th>\n",
              "      <th>rolling_gamesPlayed</th>\n",
              "      <th>rolling_goalsAgainst</th>\n",
              "      <th>rolling_goalsAgainstPerGame</th>\n",
              "      <th>rolling_goalsFor</th>\n",
              "      <th>rolling_goalsForPerGame</th>\n",
              "      <th>rolling_losses</th>\n",
              "      <th>rolling_otLosses</th>\n",
              "      <th>rolling_points</th>\n",
              "      <th>rolling_pointsPct</th>\n",
              "      <th>rolling_regulationAndOtWins</th>\n",
              "      <th>rolling_shotsAgainstPerGame</th>\n",
              "      <th>rolling_shotsForPerGame</th>\n",
              "      <th>rolling_winsInShootout</th>\n",
              "    </tr>\n",
              "    <tr>\n",
              "      <th>teamId</th>\n",
              "      <th>gameId</th>\n",
              "      <th></th>\n",
              "      <th></th>\n",
              "      <th></th>\n",
              "      <th></th>\n",
              "      <th></th>\n",
              "      <th></th>\n",
              "      <th></th>\n",
              "      <th></th>\n",
              "      <th></th>\n",
              "      <th></th>\n",
              "      <th></th>\n",
              "      <th></th>\n",
              "      <th></th>\n",
              "      <th></th>\n",
              "      <th></th>\n",
              "      <th></th>\n",
              "      <th></th>\n",
              "    </tr>\n",
              "  </thead>\n",
              "  <tbody>\n",
              "    <tr>\n",
              "      <th rowspan=\"10\" valign=\"top\">1</th>\n",
              "      <th>2018021262</th>\n",
              "      <td>1</td>\n",
              "      <td>3</td>\n",
              "      <td>4</td>\n",
              "      <td>2</td>\n",
              "      <td>NaN</td>\n",
              "      <td>NaN</td>\n",
              "      <td>NaN</td>\n",
              "      <td>NaN</td>\n",
              "      <td>NaN</td>\n",
              "      <td>NaN</td>\n",
              "      <td>NaN</td>\n",
              "      <td>NaN</td>\n",
              "      <td>NaN</td>\n",
              "      <td>NaN</td>\n",
              "      <td>NaN</td>\n",
              "      <td>NaN</td>\n",
              "      <td>NaN</td>\n",
              "    </tr>\n",
              "    <tr>\n",
              "      <th>2018021247</th>\n",
              "      <td>2</td>\n",
              "      <td>6</td>\n",
              "      <td>5</td>\n",
              "      <td>2</td>\n",
              "      <td>NaN</td>\n",
              "      <td>NaN</td>\n",
              "      <td>NaN</td>\n",
              "      <td>NaN</td>\n",
              "      <td>NaN</td>\n",
              "      <td>NaN</td>\n",
              "      <td>NaN</td>\n",
              "      <td>NaN</td>\n",
              "      <td>NaN</td>\n",
              "      <td>NaN</td>\n",
              "      <td>NaN</td>\n",
              "      <td>NaN</td>\n",
              "      <td>NaN</td>\n",
              "    </tr>\n",
              "    <tr>\n",
              "      <th>2018021222</th>\n",
              "      <td>3</td>\n",
              "      <td>8</td>\n",
              "      <td>9</td>\n",
              "      <td>4</td>\n",
              "      <td>3.0</td>\n",
              "      <td>8.0</td>\n",
              "      <td>2.666667</td>\n",
              "      <td>9.0</td>\n",
              "      <td>3.000000</td>\n",
              "      <td>1.0</td>\n",
              "      <td>0.0</td>\n",
              "      <td>4.0</td>\n",
              "      <td>0.666667</td>\n",
              "      <td>2.0</td>\n",
              "      <td>32.333333</td>\n",
              "      <td>35.000000</td>\n",
              "      <td>0.0</td>\n",
              "    </tr>\n",
              "    <tr>\n",
              "      <th>2018021207</th>\n",
              "      <td>4</td>\n",
              "      <td>11</td>\n",
              "      <td>11</td>\n",
              "      <td>5</td>\n",
              "      <td>3.0</td>\n",
              "      <td>8.0</td>\n",
              "      <td>2.666667</td>\n",
              "      <td>7.0</td>\n",
              "      <td>2.333333</td>\n",
              "      <td>1.0</td>\n",
              "      <td>1.0</td>\n",
              "      <td>3.0</td>\n",
              "      <td>0.500000</td>\n",
              "      <td>1.0</td>\n",
              "      <td>28.000000</td>\n",
              "      <td>35.000000</td>\n",
              "      <td>0.0</td>\n",
              "    </tr>\n",
              "    <tr>\n",
              "      <th>2018021199</th>\n",
              "      <td>5</td>\n",
              "      <td>15</td>\n",
              "      <td>11</td>\n",
              "      <td>5</td>\n",
              "      <td>3.0</td>\n",
              "      <td>9.0</td>\n",
              "      <td>3.000000</td>\n",
              "      <td>6.0</td>\n",
              "      <td>2.000000</td>\n",
              "      <td>1.0</td>\n",
              "      <td>1.0</td>\n",
              "      <td>3.0</td>\n",
              "      <td>0.500000</td>\n",
              "      <td>1.0</td>\n",
              "      <td>30.666667</td>\n",
              "      <td>32.000000</td>\n",
              "      <td>0.0</td>\n",
              "    </tr>\n",
              "    <tr>\n",
              "      <th>2018021170</th>\n",
              "      <td>6</td>\n",
              "      <td>16</td>\n",
              "      <td>14</td>\n",
              "      <td>7</td>\n",
              "      <td>3.0</td>\n",
              "      <td>8.0</td>\n",
              "      <td>2.666667</td>\n",
              "      <td>5.0</td>\n",
              "      <td>1.666667</td>\n",
              "      <td>1.0</td>\n",
              "      <td>1.0</td>\n",
              "      <td>3.0</td>\n",
              "      <td>0.500000</td>\n",
              "      <td>1.0</td>\n",
              "      <td>35.333333</td>\n",
              "      <td>25.333333</td>\n",
              "      <td>0.0</td>\n",
              "    </tr>\n",
              "    <tr>\n",
              "      <th>2018021150</th>\n",
              "      <td>7</td>\n",
              "      <td>17</td>\n",
              "      <td>15</td>\n",
              "      <td>9</td>\n",
              "      <td>3.0</td>\n",
              "      <td>6.0</td>\n",
              "      <td>2.000000</td>\n",
              "      <td>4.0</td>\n",
              "      <td>1.333333</td>\n",
              "      <td>1.0</td>\n",
              "      <td>0.0</td>\n",
              "      <td>4.0</td>\n",
              "      <td>0.666667</td>\n",
              "      <td>1.0</td>\n",
              "      <td>34.333333</td>\n",
              "      <td>27.000000</td>\n",
              "      <td>1.0</td>\n",
              "    </tr>\n",
              "    <tr>\n",
              "      <th>2018021137</th>\n",
              "      <td>8</td>\n",
              "      <td>22</td>\n",
              "      <td>16</td>\n",
              "      <td>9</td>\n",
              "      <td>3.0</td>\n",
              "      <td>7.0</td>\n",
              "      <td>2.333333</td>\n",
              "      <td>5.0</td>\n",
              "      <td>1.666667</td>\n",
              "      <td>1.0</td>\n",
              "      <td>0.0</td>\n",
              "      <td>4.0</td>\n",
              "      <td>0.666667</td>\n",
              "      <td>1.0</td>\n",
              "      <td>32.333333</td>\n",
              "      <td>25.000000</td>\n",
              "      <td>1.0</td>\n",
              "    </tr>\n",
              "    <tr>\n",
              "      <th>2018021122</th>\n",
              "      <td>9</td>\n",
              "      <td>26</td>\n",
              "      <td>17</td>\n",
              "      <td>9</td>\n",
              "      <td>3.0</td>\n",
              "      <td>10.0</td>\n",
              "      <td>3.333333</td>\n",
              "      <td>3.0</td>\n",
              "      <td>1.000000</td>\n",
              "      <td>2.0</td>\n",
              "      <td>0.0</td>\n",
              "      <td>2.0</td>\n",
              "      <td>0.333333</td>\n",
              "      <td>0.0</td>\n",
              "      <td>24.333333</td>\n",
              "      <td>25.000000</td>\n",
              "      <td>1.0</td>\n",
              "    </tr>\n",
              "    <tr>\n",
              "      <th>2018021111</th>\n",
              "      <td>10</td>\n",
              "      <td>29</td>\n",
              "      <td>17</td>\n",
              "      <td>9</td>\n",
              "      <td>3.0</td>\n",
              "      <td>12.0</td>\n",
              "      <td>4.000000</td>\n",
              "      <td>2.0</td>\n",
              "      <td>0.666667</td>\n",
              "      <td>3.0</td>\n",
              "      <td>0.0</td>\n",
              "      <td>0.0</td>\n",
              "      <td>0.000000</td>\n",
              "      <td>0.0</td>\n",
              "      <td>27.666667</td>\n",
              "      <td>21.666667</td>\n",
              "      <td>0.0</td>\n",
              "    </tr>\n",
              "  </tbody>\n",
              "</table>\n",
              "</div>"
            ],
            "text/plain": [
              "                   cum_gamesPlayed  ...  rolling_winsInShootout\n",
              "teamId gameId                       ...                        \n",
              "1      2018021262                1  ...                     NaN\n",
              "       2018021247                2  ...                     NaN\n",
              "       2018021222                3  ...                     0.0\n",
              "       2018021207                4  ...                     0.0\n",
              "       2018021199                5  ...                     0.0\n",
              "       2018021170                6  ...                     0.0\n",
              "       2018021150                7  ...                     1.0\n",
              "       2018021137                8  ...                     1.0\n",
              "       2018021122                9  ...                     1.0\n",
              "       2018021111               10  ...                     0.0\n",
              "\n",
              "[10 rows x 17 columns]"
            ]
          },
          "metadata": {
            "tags": []
          },
          "execution_count": 69
        }
      ]
    },
    {
      "cell_type": "markdown",
      "metadata": {
        "id": "sAL1KB5t3XiF"
      },
      "source": [
        "## Putting it all together\n",
        "\n",
        "Let's wrap all the functions we defined into a single function we can all on mutiple seasons of game summary data.\n",
        "\n",
        "`process_data` takes a dicttionary of game summary dataframes produced by `get_gameData` and outputs a dictionary containing the following:\n",
        "\n",
        "\n",
        "*   raw dataframe, \n",
        "*   team lookup, \n",
        "*   game schedule, \n",
        "*   rolling aggregate dataframe\n",
        "\n",
        "for each of the seasons being analysed."
      ]
    },
    {
      "cell_type": "code",
      "metadata": {
        "id": "lumpHop9RkRq"
      },
      "source": [
        "def process_data(raw_data, window=3):\n",
        "  data = {}\n",
        "  for season, df in raw_data.items():\n",
        "    df['gameDate'] = pd.to_datetime(df['gameDate'])\n",
        "    df['seasonId'] = str(season)\n",
        "    df = df.sort_values('gameDate', axis=0).reset_index(drop=True)\n",
        "\n",
        "    teamLU = get_teamLU(df)\n",
        "\n",
        "    schedule =  get_schedule(df, teamLU) \n",
        "\n",
        "    rolling = get_rolling(df,window)\n",
        "\n",
        "    data[season] =  {'raw_data':df, \n",
        "                     'teamLU' : teamLU,\n",
        "                     'schedule':schedule,\n",
        "                     'rolling':rolling, \n",
        "                    }\n",
        "\n",
        "  return data"
      ],
      "execution_count": null,
      "outputs": []
    },
    {
      "cell_type": "markdown",
      "metadata": {
        "id": "VfR7JZDO486C"
      },
      "source": [
        "### Getting data for 5 NHL seasons\n",
        "\n",
        "So, let's get all the data we'll use in the prediction task. I'm going with the 5 most recent complete NHL seasons that were played - i.e. excluding the Covid-shortened seasons of 2019-20 and 2021."
      ]
    },
    {
      "cell_type": "code",
      "metadata": {
        "colab": {
          "base_uri": "https://localhost:8080/"
        },
        "id": "W7L4erR8EYXn",
        "outputId": "12f790f3-df9e-4ab4-d0a3-283e54866f17"
      },
      "source": [
        "# Get raw data\n",
        "raw_data = get_gameData(2014, 5)\n",
        "\n",
        "# Process data\n",
        "data = process_data(raw_data)"
      ],
      "execution_count": null,
      "outputs": [
        {
          "output_type": "stream",
          "text": [
            "Number of games grabbed for 20142015 = 2460. Total = 2460\n",
            "Number of games grabbed for 20152016 = 2460. Total = 4920\n",
            "Number of games grabbed for 20162017 = 2460. Total = 7380\n",
            "Number of games grabbed for 20172018 = 2542. Total = 9922\n",
            "Number of games grabbed for 20182019 = 2542. Total = 12464\n"
          ],
          "name": "stdout"
        }
      ]
    },
    {
      "cell_type": "markdown",
      "metadata": {
        "id": "TZuZ1xEQ5029"
      },
      "source": [
        "Great! So we have around 12k instances to complete the prediction task.\n",
        "\n",
        "Here's a quick function to print the structure of the resulting object `data`."
      ]
    },
    {
      "cell_type": "code",
      "metadata": {
        "colab": {
          "base_uri": "https://localhost:8080/"
        },
        "id": "d1UV032DgR6f",
        "outputId": "7f11ac22-be85-4cb0-ee38-c66dfe9d8d2a"
      },
      "source": [
        "def pretty(d, indent=0):\n",
        "   for key, value in d.items():\n",
        "      print('\\t' * indent + str(key))\n",
        "      if isinstance(value, dict):\n",
        "        if key == \"teamLU\":\n",
        "          print('\\t' * (indent+1) + f\"Dictionary: {len(value)}\")\n",
        "        else:\n",
        "          pretty(value, indent+1)\n",
        "      elif isinstance(value, pd.DataFrame):\n",
        "         print('\\t' * (indent+1) + f\"DataFrame: {value.shape}\")\n",
        "      \n",
        "\n",
        "pretty(data)"
      ],
      "execution_count": null,
      "outputs": [
        {
          "output_type": "stream",
          "text": [
            "20142015\n",
            "\traw_data\n",
            "\t\tDataFrame: (2460, 28)\n",
            "\tteamLU\n",
            "\t\tDictionary: 30\n",
            "\tschedule\n",
            "\t\tDataFrame: (1230, 4)\n",
            "\trolling\n",
            "\t\tDataFrame: (2460, 17)\n",
            "20152016\n",
            "\traw_data\n",
            "\t\tDataFrame: (2460, 28)\n",
            "\tteamLU\n",
            "\t\tDictionary: 30\n",
            "\tschedule\n",
            "\t\tDataFrame: (1230, 4)\n",
            "\trolling\n",
            "\t\tDataFrame: (2460, 17)\n",
            "20162017\n",
            "\traw_data\n",
            "\t\tDataFrame: (2460, 28)\n",
            "\tteamLU\n",
            "\t\tDictionary: 30\n",
            "\tschedule\n",
            "\t\tDataFrame: (1230, 4)\n",
            "\trolling\n",
            "\t\tDataFrame: (2460, 17)\n",
            "20172018\n",
            "\traw_data\n",
            "\t\tDataFrame: (2542, 28)\n",
            "\tteamLU\n",
            "\t\tDictionary: 31\n",
            "\tschedule\n",
            "\t\tDataFrame: (1271, 4)\n",
            "\trolling\n",
            "\t\tDataFrame: (2542, 17)\n",
            "20182019\n",
            "\traw_data\n",
            "\t\tDataFrame: (2542, 28)\n",
            "\tteamLU\n",
            "\t\tDictionary: 31\n",
            "\tschedule\n",
            "\t\tDataFrame: (1271, 4)\n",
            "\trolling\n",
            "\t\tDataFrame: (2542, 17)\n"
          ],
          "name": "stdout"
        }
      ]
    },
    {
      "cell_type": "markdown",
      "metadata": {
        "id": "fPTwBQOo6n2L"
      },
      "source": [
        "The above passes a sense check:\n",
        "\n",
        "*   `teamLU` has 30 teams until 2017-18 which was the inaugural season of the Vegas Golden Knights (and what an inauguration that was!).\n",
        "*   `raw_data` and `rolling` always have `82 games x N teams = 82N` entries\n",
        "*   `schedule` always has `82N/2` entries.\n",
        "\n",
        "Now that we are statisfied with the accuracy of the data, let's serialize it and save it for later - i.e. Part 2!"
      ]
    },
    {
      "cell_type": "code",
      "metadata": {
        "id": "ZWBB6OZGH1VT"
      },
      "source": [
        "import pickle\n",
        "\n",
        "pickle.dump( data, open( \"data.p\", \"wb\" ) )"
      ],
      "execution_count": null,
      "outputs": []
    },
    {
      "cell_type": "code",
      "metadata": {
        "id": "UhuHlbdhmLPA"
      },
      "source": [
        ""
      ],
      "execution_count": null,
      "outputs": []
    }
  ]
}